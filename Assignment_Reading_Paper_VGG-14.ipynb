{
 "cells": [
  {
   "cell_type": "markdown",
   "metadata": {
    "id": "w5WeigKoPYL5"
   },
   "source": [
    "# Bài tập lập trình VGG11\n",
    "\n",
    "```\n",
    "ProtonX - TensorFlow Class \n",
    "```\n",
    "\n",
    "### Hướng dẫn làm bài \n",
    "- Trong bài tập này bạn sẽ sử dụng Python 3.\n",
    "- Sau khi bạn viết Code của mình xong, hãy chạy dòng Code đó để xem kết quả bên dưới. \n",
    "\n",
    "Các bạn sẽ thực hiện `code` trong các phần hiển thị `#TODO: Lập trình tại đây` và thay thế các vị trí `None`. Có những câu hỏi chỉ cần trả về đáp án.\n",
    "\n",
    "Sau khi viết xong Code của bạn, bạn hãy ấn \"SHIFT\"+\"ENTER\" để thực hiện chạy lệnh của Cell đó. \n",
    "\n",
    "---\n",
    "Điểm số:\n",
    "* Câu xây dựng mô hình: 60 điểm\n",
    "\n",
    "Tiêu chí chấm điểm:\n",
    "* Các bài tập sẽ được chấm dựa trên các Test-case.\n",
    "* Các bạn không khởi tạo lại giá trị đầu vào bên trong hàm. Có thể khởi tạo các giá trị này ngoài hàm nhằm mục đích kiểm thử."
   ]
  },
  {
   "cell_type": "markdown",
   "metadata": {
    "id": "gafpnWbEJd92"
   },
   "source": [
    "## I. Xây dựng model"
   ]
  },
  {
   "cell_type": "markdown",
   "metadata": {
    "id": "BvAv5eg6O0ar"
   },
   "source": [
    "Đọc bài báo: [VERY DEEP CONVOLUTIONAL NETWORKS FOR LARGE-SCALE IMAGE RECOGNITION](https://arxiv.org/pdf/1409.1556.pdf) và tiến hành lập trình mô hình VGG 11"
   ]
  },
  {
   "cell_type": "markdown",
   "metadata": {
    "id": "eH0dNn6ROwtS"
   },
   "source": [
    "![](https://storage.googleapis.com/protonx-cloud-storage/images/vgg11.PNG)"
   ]
  },
  {
   "cell_type": "code",
   "execution_count": 20,
   "metadata": {
    "id": "-4hZJWa4xZ5R"
   },
   "outputs": [
    {
     "ename": "ModuleNotFoundError",
     "evalue": "No module named 'tensorflow'",
     "output_type": "error",
     "traceback": [
      "\u001b[0;31m---------------------------------------------------------------------------\u001b[0m",
      "\u001b[0;31mModuleNotFoundError\u001b[0m                       Traceback (most recent call last)",
      "Cell \u001b[0;32mIn[20], line 1\u001b[0m\n\u001b[0;32m----> 1\u001b[0m \u001b[38;5;28;01mimport\u001b[39;00m \u001b[38;5;21;01mtensorflow\u001b[39;00m \u001b[38;5;28;01mas\u001b[39;00m \u001b[38;5;21;01mtf\u001b[39;00m\n",
      "\u001b[0;31mModuleNotFoundError\u001b[0m: No module named 'tensorflow'"
     ]
    }
   ],
   "source": [
    "import tensorflow as tf"
   ]
  },
  {
   "cell_type": "code",
   "execution_count": 13,
   "metadata": {
    "id": "TFLVDqfkyghs"
   },
   "outputs": [
    {
     "ename": "ModuleNotFoundError",
     "evalue": "No module named 'tensorflow'",
     "output_type": "error",
     "traceback": [
      "\u001b[0;31m---------------------------------------------------------------------------\u001b[0m",
      "\u001b[0;31mModuleNotFoundError\u001b[0m                       Traceback (most recent call last)",
      "Cell \u001b[0;32mIn[13], line 1\u001b[0m\n\u001b[0;32m----> 1\u001b[0m \u001b[38;5;28;01mfrom\u001b[39;00m \u001b[38;5;21;01mtensorflow\u001b[39;00m\u001b[38;5;21;01m.\u001b[39;00m\u001b[38;5;21;01mkeras\u001b[39;00m\u001b[38;5;21;01m.\u001b[39;00m\u001b[38;5;21;01mlayers\u001b[39;00m \u001b[38;5;28;01mimport\u001b[39;00m Conv2D, MaxPooling2D, Dense, Flatten, Dropout\n\u001b[1;32m      2\u001b[0m \u001b[38;5;28;01mfrom\u001b[39;00m \u001b[38;5;21;01mtensorflow\u001b[39;00m\u001b[38;5;21;01m.\u001b[39;00m\u001b[38;5;21;01mkeras\u001b[39;00m\u001b[38;5;21;01m.\u001b[39;00m\u001b[38;5;21;01mmodels\u001b[39;00m \u001b[38;5;28;01mimport\u001b[39;00m Sequential\n",
      "\u001b[0;31mModuleNotFoundError\u001b[0m: No module named 'tensorflow'"
     ]
    }
   ],
   "source": [
    "from tensorflow.keras.layers import Conv2D, MaxPooling2D, Dense, Flatten, Dropout\n",
    "from tensorflow.keras.models import Sequential"
   ]
  },
  {
   "cell_type": "code",
   "execution_count": 14,
   "metadata": {
    "id": "kmltPOsE8M3G"
   },
   "outputs": [],
   "source": [
    "num_classes = 1000"
   ]
  },
  {
   "cell_type": "code",
   "execution_count": 15,
   "metadata": {
    "id": "77HxNw2iyvn2"
   },
   "outputs": [
    {
     "ename": "NameError",
     "evalue": "name 'tf' is not defined",
     "output_type": "error",
     "traceback": [
      "\u001b[0;31m---------------------------------------------------------------------------\u001b[0m",
      "\u001b[0;31mNameError\u001b[0m                                 Traceback (most recent call last)",
      "Cell \u001b[0;32mIn[15], line 1\u001b[0m\n\u001b[0;32m----> 1\u001b[0m \u001b[38;5;28;01mclass\u001b[39;00m \u001b[38;5;21;01mBlock\u001b[39;00m(\u001b[43mtf\u001b[49m\u001b[38;5;241m.\u001b[39mkeras\u001b[38;5;241m.\u001b[39mmodels\u001b[38;5;241m.\u001b[39mSequential):\n\u001b[1;32m      2\u001b[0m     \u001b[38;5;28;01mdef\u001b[39;00m \u001b[38;5;21m__init__\u001b[39m(\u001b[38;5;28mself\u001b[39m,n,m):\n\u001b[1;32m      3\u001b[0m         \u001b[38;5;28msuper\u001b[39m()\u001b[38;5;241m.\u001b[39m\u001b[38;5;21m__init__\u001b[39m()\n",
      "\u001b[0;31mNameError\u001b[0m: name 'tf' is not defined"
     ]
    }
   ],
   "source": [
    "class Block(tf.keras.models.Sequential):\n",
    "    def __init__(self,n,m):\n",
    "        super().__init__()\n",
    "        for i in range(m):\n",
    "            self.add(tf.keras.layers.Conv2D(filters = n, kernel_size=(3,3),strides=(1,1),padding = 'same',activation = \"relu\"))\n",
    "        self.add(tf.keras.layers.MaxPool2D(pool_size = (2, 2)))\n",
    "\n",
    "class Dense(tf.keras.models.Sequential):\n",
    "    def __init__(self,n,m=2):\n",
    "        super().__init__()\n",
    "        for i in range(m):\n",
    "            self.add(tf.keras.layers.Dense(units = n, activation = \"relu\"))\n",
    "            \n",
    "class VGG11(tf.keras.models.Sequential):\n",
    "  def __init__(self, input_shape, classes, filters = 64):\n",
    "    super().__init__()\n",
    "    self.add(tf.keras.layers.InputLayer(input_shape = input_shape))\n",
    "\n",
    "    # Backbone\n",
    "    self.add(Block(n = filters * 1, m = 1))\n",
    "    self.add(Block(n = filters * 2, m = 1))\n",
    "    self.add(Block(n = filters * 4, m = 2))\n",
    "    self.add(Block(n = filters * 8, m = 2))\n",
    "    self.add(Block(n = filters * 8, m = 2))\n",
    "\n",
    "    # top\n",
    "    self.add(tf.keras.layers.Flatten())\n",
    "    self.add(Dense(n = filters * 64))\n",
    "    self.add(tf.keras.layers.Dense(units = classes,activation = \"softmax\"))"
   ]
  },
  {
   "cell_type": "code",
   "execution_count": 16,
   "metadata": {
    "colab": {
     "base_uri": "https://localhost:8080/"
    },
    "id": "V1RSmd_-P0e5",
    "outputId": "de303106-7893-43fc-f0de-f4bd877d9cca"
   },
   "outputs": [
    {
     "ename": "NameError",
     "evalue": "name 'VGG11' is not defined",
     "output_type": "error",
     "traceback": [
      "\u001b[0;31m---------------------------------------------------------------------------\u001b[0m",
      "\u001b[0;31mNameError\u001b[0m                                 Traceback (most recent call last)",
      "Cell \u001b[0;32mIn[16], line 2\u001b[0m\n\u001b[1;32m      1\u001b[0m n_outputs \u001b[38;5;241m=\u001b[39m \u001b[38;5;241m10\u001b[39m \u001b[38;5;66;03m# (mnist)\u001b[39;00m\n\u001b[0;32m----> 2\u001b[0m model \u001b[38;5;241m=\u001b[39m \u001b[43mVGG11\u001b[49m((\u001b[38;5;241m256\u001b[39m, \u001b[38;5;241m256\u001b[39m,\u001b[38;5;241m3\u001b[39m), classes \u001b[38;5;241m=\u001b[39m n_outputs)\n\u001b[1;32m      3\u001b[0m model\u001b[38;5;241m.\u001b[39msummary()\n",
      "\u001b[0;31mNameError\u001b[0m: name 'VGG11' is not defined"
     ]
    }
   ],
   "source": [
    "n_outputs = 10 # (mnist)\n",
    "model = VGG11((256, 256,3), classes = n_outputs)\n",
    "model.summary()"
   ]
  },
  {
   "cell_type": "code",
   "execution_count": null,
   "metadata": {
    "id": "zZrNC7EfGLTB"
   },
   "outputs": [],
   "source": []
  }
 ],
 "metadata": {
  "colab": {
   "provenance": []
  },
  "kernelspec": {
   "display_name": "Python 3 (ipykernel)",
   "language": "python",
   "name": "python3"
  },
  "language_info": {
   "codemirror_mode": {
    "name": "ipython",
    "version": 3
   },
   "file_extension": ".py",
   "mimetype": "text/x-python",
   "name": "python",
   "nbconvert_exporter": "python",
   "pygments_lexer": "ipython3",
   "version": "3.10.12"
  }
 },
 "nbformat": 4,
 "nbformat_minor": 4
}
